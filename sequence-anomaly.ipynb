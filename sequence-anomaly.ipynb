{
 "cells": [
  {
   "cell_type": "markdown",
   "metadata": {},
   "source": [
    "Generate a set of random string sequences that follow a specified format, and add a few anomalies. We're gonna start by writing a function that creates strings of the following format: CEBF0ZPQ ([4 letters A-F][1 digit 0–2][3 letters QWOPZXML]), and generate 25K sequences of this format."
   ]
  },
  {
   "cell_type": "code",
   "execution_count": 3,
   "metadata": {},
   "outputs": [],
   "source": [
    "import random\n",
    "import pandas as pd\n",
    "first_letters =  'ABCDEF'\n",
    "second_numbers = '120'\n",
    "last_letters = 'QWOPZXML'\n",
    "# returns a string of the following format: [4 letters A-F][1 digit 0-2][3 letters QWOPZXML]\n",
    "def get_random_string():\n",
    "    str1 = ''.join(random.choice(first_letters) for i in range(4))\n",
    "    str2 = random.choice(second_numbers)\n",
    "    str3 = ''.join(random.choice(last_letters) for i in range(3))\n",
    "    return str1+str2+str3\n",
    "# get 25,000 sequences of this format\n",
    "random_sequences = [get_random_string() for i in range(25000)]\n",
    "#this will return string according to the following format\n",
    "# ['CBCA2QOM', 'FBEF0WZW', 'DBFB2ZML', 'BFCB2WXO']\n",
    "# add some anomalies to our list\n",
    "random_sequences.extend(['XYDC2DCA', 'TXSX1ABC','RNIU4XRE','AABDXUEI','SDRAC5RF'])\n",
    "#save this to a dataframe\n",
    "seqs_ds = pd.DataFrame(random_sequences)"
   ]
  },
  {
   "cell_type": "markdown",
   "metadata": {},
   "source": [
    "Encode the string sequences into numbers and scale them"
   ]
  },
  {
   "cell_type": "code",
   "execution_count": 4,
   "metadata": {},
   "outputs": [
    {
     "data": {
      "text/plain": [
       "(25005, 8)"
      ]
     },
     "execution_count": 4,
     "metadata": {},
     "output_type": "execute_result"
    }
   ],
   "source": [
    "import numpy as np\n",
    "#Build the char index that we will use to encode seqs to numbers \n",
    "#(this char index was written by Jason Brownlee from Machine Learning Mastery)\n",
    "char_index = '0abcdefghijklmnopqrstuvwxyz'\n",
    "char_index +='ABCDEFGHIJKLMNOPQRSTUVWXYZ'\n",
    "char_index += '123456789'\n",
    "char_index += '().,-/+=&$?@#!*:;_[]|%⸏{}\\\"\\'' + ' ' +'\\\\'\n",
    "char_to_int = dict((c, i) for i, c in enumerate(char_index))\n",
    "int_to_char = dict((i, c) for i, c in enumerate(char_index))\n",
    "from tensorflow.keras.preprocessing.sequence import pad_sequences\n",
    "#function that convert a char seqs to numbers seqs \n",
    "#(it does a little more but lets leave it for now)\n",
    "def encode_sequence_list(seqs, feat_n=0):\n",
    "    encoded_seqs = []\n",
    "    for seq in seqs:\n",
    "        encoded_seq = [char_to_int[c] for c in seq]\n",
    "        encoded_seqs.append(encoded_seq)\n",
    "    if(feat_n > 0):\n",
    "        encoded_seqs.append(np.zeros(feat_n))\n",
    "    return pad_sequences(encoded_seqs, padding='post')\n",
    "\n",
    "def decode_sequence_list(seqs):\n",
    "    decoded_seqs = []\n",
    "    for seq in seqs:\n",
    "        decoded_seq = [int_to_char[i] for i in seq]\n",
    "        decoded_seqs.append(decoded_seq)\n",
    "    return decoded_seqs\n",
    "    \n",
    "# Using the char_index, the encode_sequence_list function\n",
    "# will turn a string like this EBCA0OXO \n",
    "#to an array like this [29 32 27 27  0 42 42 38]\n",
    "\n",
    "# encode each string seq to an integer array [[1],[5],[67]], [[45],[76],[7]\n",
    "encoded_seqs = encode_sequence_list(random_sequences)\n",
    "# mix everything up\n",
    "np.random.shuffle(encoded_seqs)\n",
    "encoded_seqs.shape"
   ]
  },
  {
   "cell_type": "code",
   "execution_count": 5,
   "metadata": {},
   "outputs": [
    {
     "name": "stdout",
     "output_type": "stream",
     "text": [
      "FBDC2XQZ\n",
      "[31 27 30 28 54 41 49 43]\n"
     ]
    }
   ],
   "source": [
    "print(random_sequences[10])\n",
    "print(encoded_seqs[10])"
   ]
  },
  {
   "cell_type": "markdown",
   "metadata": {},
   "source": [
    "Now we have an array of the following shape as every string sequence has 8 characters, each of which is encoded as a number which we will treat as a column. Finally, before feeding the data to the autoencoder I'm going to scale the data using a MinMaxScaler, and split it into a training and test set. Proper scaling can often significantly improve the performance of NNs so it is important to experiment with more than one method."
   ]
  },
  {
   "cell_type": "code",
   "execution_count": 6,
   "metadata": {},
   "outputs": [],
   "source": [
    "#Scale our data using a MinMaxScaler that will scale \n",
    "#each number so that it will be between 0 and 1\n",
    "from sklearn.preprocessing import StandardScaler, MinMaxScaler\n",
    "scaler = MinMaxScaler()\n",
    "scaled_seqs = scaler.fit_transform(encoded_seqs)\n",
    "#Create a test and train sets of our data\n",
    "X_train = scaled_seqs[:20000]\n",
    "X_test = scaled_seqs[20000:]"
   ]
  },
  {
   "cell_type": "markdown",
   "metadata": {},
   "source": [
    "Design, fit and tune the autoencoder.\n",
    "As mentioned earlier, there is more than one way to design an autoencoder. It is usually based on small hidden layers wrapped with larger layers (this is what creates the encoding-decoding effect). I have made a few tuning sessions in order to determine the best params to use here as different kinds of data usually lend themselves to very different best-performance parameters."
   ]
  },
  {
   "cell_type": "code",
   "execution_count": 7,
   "metadata": {},
   "outputs": [
    {
     "name": "stderr",
     "output_type": "stream",
     "text": [
      "2022-10-17 20:48:20.009033: I tensorflow/stream_executor/cuda/cuda_gpu_executor.cc:966] could not open file to read NUMA node: /sys/bus/pci/devices/0000:01:00.0/numa_node\n",
      "Your kernel may have been built without NUMA support.\n",
      "2022-10-17 20:48:20.052134: I tensorflow/stream_executor/cuda/cuda_gpu_executor.cc:966] could not open file to read NUMA node: /sys/bus/pci/devices/0000:01:00.0/numa_node\n",
      "Your kernel may have been built without NUMA support.\n",
      "2022-10-17 20:48:20.052731: I tensorflow/stream_executor/cuda/cuda_gpu_executor.cc:966] could not open file to read NUMA node: /sys/bus/pci/devices/0000:01:00.0/numa_node\n",
      "Your kernel may have been built without NUMA support.\n",
      "2022-10-17 20:48:20.053628: I tensorflow/core/platform/cpu_feature_guard.cc:193] This TensorFlow binary is optimized with oneAPI Deep Neural Network Library (oneDNN) to use the following CPU instructions in performance-critical operations:  AVX2 FMA\n",
      "To enable them in other operations, rebuild TensorFlow with the appropriate compiler flags.\n",
      "2022-10-17 20:48:20.055686: I tensorflow/stream_executor/cuda/cuda_gpu_executor.cc:966] could not open file to read NUMA node: /sys/bus/pci/devices/0000:01:00.0/numa_node\n",
      "Your kernel may have been built without NUMA support.\n",
      "2022-10-17 20:48:20.056320: I tensorflow/stream_executor/cuda/cuda_gpu_executor.cc:966] could not open file to read NUMA node: /sys/bus/pci/devices/0000:01:00.0/numa_node\n",
      "Your kernel may have been built without NUMA support.\n",
      "2022-10-17 20:48:20.056901: I tensorflow/stream_executor/cuda/cuda_gpu_executor.cc:966] could not open file to read NUMA node: /sys/bus/pci/devices/0000:01:00.0/numa_node\n",
      "Your kernel may have been built without NUMA support.\n",
      "2022-10-17 20:48:21.376841: I tensorflow/stream_executor/cuda/cuda_gpu_executor.cc:966] could not open file to read NUMA node: /sys/bus/pci/devices/0000:01:00.0/numa_node\n",
      "Your kernel may have been built without NUMA support.\n",
      "2022-10-17 20:48:21.377972: I tensorflow/stream_executor/cuda/cuda_gpu_executor.cc:966] could not open file to read NUMA node: /sys/bus/pci/devices/0000:01:00.0/numa_node\n",
      "Your kernel may have been built without NUMA support.\n",
      "2022-10-17 20:48:21.377983: I tensorflow/core/common_runtime/gpu/gpu_device.cc:1700] Could not identify NUMA node of platform GPU id 0, defaulting to 0.  Your kernel may not have been built with NUMA support.\n",
      "2022-10-17 20:48:21.378605: I tensorflow/stream_executor/cuda/cuda_gpu_executor.cc:966] could not open file to read NUMA node: /sys/bus/pci/devices/0000:01:00.0/numa_node\n",
      "Your kernel may have been built without NUMA support.\n",
      "2022-10-17 20:48:21.378643: I tensorflow/core/common_runtime/gpu/gpu_device.cc:1616] Created device /job:localhost/replica:0/task:0/device:GPU:0 with 3908 MB memory:  -> device: 0, name: Quadro RTX 3000, pci bus id: 0000:01:00.0, compute capability: 7.5\n"
     ]
    },
    {
     "name": "stdout",
     "output_type": "stream",
     "text": [
      "Epoch 1/30\n",
      "157/157 [==============================] - 2s 7ms/step - loss: 0.1491 - accuracy: 0.0849 - val_loss: 0.0860 - val_accuracy: 0.0563\n",
      "Epoch 2/30\n",
      "157/157 [==============================] - 1s 6ms/step - loss: 0.0491 - accuracy: 0.1408 - val_loss: 0.0286 - val_accuracy: 0.2338\n",
      "Epoch 3/30\n",
      "157/157 [==============================] - 1s 6ms/step - loss: 0.0225 - accuracy: 0.3442 - val_loss: 0.0177 - val_accuracy: 0.6122\n",
      "Epoch 4/30\n",
      "157/157 [==============================] - 1s 6ms/step - loss: 0.0147 - accuracy: 0.6489 - val_loss: 0.0128 - val_accuracy: 0.6593\n",
      "Epoch 5/30\n",
      "157/157 [==============================] - 1s 6ms/step - loss: 0.0117 - accuracy: 0.6614 - val_loss: 0.0103 - val_accuracy: 0.7121\n",
      "Epoch 6/30\n",
      "157/157 [==============================] - 1s 7ms/step - loss: 0.0095 - accuracy: 0.7336 - val_loss: 0.0089 - val_accuracy: 0.7383\n",
      "Epoch 7/30\n",
      "157/157 [==============================] - 1s 7ms/step - loss: 0.0086 - accuracy: 0.7386 - val_loss: 0.0082 - val_accuracy: 0.7393\n",
      "Epoch 8/30\n",
      "157/157 [==============================] - 1s 7ms/step - loss: 0.0080 - accuracy: 0.7436 - val_loss: 0.0078 - val_accuracy: 0.7477\n",
      "Epoch 9/30\n",
      "157/157 [==============================] - 1s 7ms/step - loss: 0.0077 - accuracy: 0.7478 - val_loss: 0.0075 - val_accuracy: 0.7479\n",
      "Epoch 10/30\n",
      "157/157 [==============================] - 1s 7ms/step - loss: 0.0074 - accuracy: 0.7488 - val_loss: 0.0072 - val_accuracy: 0.7502\n",
      "Epoch 11/30\n",
      "157/157 [==============================] - 1s 7ms/step - loss: 0.0071 - accuracy: 0.7498 - val_loss: 0.0069 - val_accuracy: 0.7510\n",
      "Epoch 12/30\n",
      "157/157 [==============================] - 1s 7ms/step - loss: 0.0067 - accuracy: 0.7516 - val_loss: 0.0065 - val_accuracy: 0.7530\n",
      "Epoch 13/30\n",
      "157/157 [==============================] - 1s 7ms/step - loss: 0.0063 - accuracy: 0.7522 - val_loss: 0.0060 - val_accuracy: 0.7534\n",
      "Epoch 14/30\n",
      "157/157 [==============================] - 1s 7ms/step - loss: 0.0058 - accuracy: 0.7591 - val_loss: 0.0056 - val_accuracy: 0.7714\n",
      "Epoch 15/30\n",
      "157/157 [==============================] - 1s 7ms/step - loss: 0.0054 - accuracy: 0.7817 - val_loss: 0.0052 - val_accuracy: 0.7924\n",
      "Epoch 16/30\n",
      "157/157 [==============================] - 1s 7ms/step - loss: 0.0050 - accuracy: 0.8007 - val_loss: 0.0048 - val_accuracy: 0.8144\n",
      "Epoch 17/30\n",
      "157/157 [==============================] - 1s 7ms/step - loss: 0.0045 - accuracy: 0.8207 - val_loss: 0.0043 - val_accuracy: 0.8268\n",
      "Epoch 18/30\n",
      "157/157 [==============================] - 1s 7ms/step - loss: 0.0041 - accuracy: 0.8299 - val_loss: 0.0041 - val_accuracy: 0.8312\n",
      "Epoch 19/30\n",
      "157/157 [==============================] - 1s 7ms/step - loss: 0.0040 - accuracy: 0.8329 - val_loss: 0.0040 - val_accuracy: 0.8316\n",
      "Epoch 20/30\n",
      "157/157 [==============================] - 1s 7ms/step - loss: 0.0039 - accuracy: 0.8324 - val_loss: 0.0040 - val_accuracy: 0.8336\n",
      "Epoch 21/30\n",
      "157/157 [==============================] - 1s 7ms/step - loss: 0.0039 - accuracy: 0.8325 - val_loss: 0.0039 - val_accuracy: 0.8334\n",
      "Epoch 22/30\n",
      "157/157 [==============================] - 1s 7ms/step - loss: 0.0039 - accuracy: 0.8323 - val_loss: 0.0039 - val_accuracy: 0.8362\n",
      "Epoch 23/30\n",
      "157/157 [==============================] - 1s 7ms/step - loss: 0.0039 - accuracy: 0.8324 - val_loss: 0.0039 - val_accuracy: 0.8360\n",
      "Epoch 24/30\n",
      "157/157 [==============================] - 1s 7ms/step - loss: 0.0039 - accuracy: 0.8328 - val_loss: 0.0039 - val_accuracy: 0.8312\n",
      "Epoch 25/30\n",
      "157/157 [==============================] - 1s 7ms/step - loss: 0.0038 - accuracy: 0.8319 - val_loss: 0.0039 - val_accuracy: 0.8364\n",
      "Epoch 26/30\n",
      "157/157 [==============================] - 1s 7ms/step - loss: 0.0038 - accuracy: 0.8322 - val_loss: 0.0039 - val_accuracy: 0.8322\n",
      "Epoch 27/30\n",
      "157/157 [==============================] - 1s 7ms/step - loss: 0.0038 - accuracy: 0.8321 - val_loss: 0.0038 - val_accuracy: 0.8324\n",
      "Epoch 28/30\n",
      "157/157 [==============================] - 1s 7ms/step - loss: 0.0038 - accuracy: 0.8317 - val_loss: 0.0038 - val_accuracy: 0.8312\n",
      "Epoch 29/30\n",
      "157/157 [==============================] - 1s 7ms/step - loss: 0.0038 - accuracy: 0.8314 - val_loss: 0.0038 - val_accuracy: 0.8316\n",
      "Epoch 30/30\n",
      "157/157 [==============================] - 1s 7ms/step - loss: 0.0038 - accuracy: 0.8313 - val_loss: 0.0038 - val_accuracy: 0.8364\n"
     ]
    }
   ],
   "source": [
    "from keras.models import Model, load_model\n",
    "from keras.layers import Input, Dense, Dropout\n",
    "from keras.callbacks import ModelCheckpoint, TensorBoard\n",
    "from keras import regularizers\n",
    "\n",
    "input_dim = X_train.shape[1] # the # features\n",
    "encoding_dim = 8 # first layer\n",
    "hidden_dim = int(encoding_dim / 2) #hideen layer\n",
    "\n",
    "nb_epoch = 30\n",
    "batch_size = 128\n",
    "learning_rate = 0.1\n",
    "\n",
    "input_layer = Input(shape=(input_dim, ))\n",
    "encoder = Dense(encoding_dim, activation=\"tanh\", activity_regularizer=regularizers.l1(10e-5))(input_layer)\n",
    "encoder = Dense(hidden_dim, activation=\"relu\")(encoder)\n",
    "decoder = Dense(encoding_dim, activation='relu')(encoder)\n",
    "decoder = Dense(input_dim, activation='tanh')(decoder)\n",
    "autoencoder = Model(inputs=input_layer, outputs=decoder)\n",
    "autoencoder.compile(optimizer='adam', loss='mean_squared_error', metrics=['accuracy'])\n",
    "#create callback\n",
    "filepath = 'my_best_model.hdf5'\n",
    "checkpointer = ModelCheckpoint(filepath=filepath,                             \n",
    "                             verbose=0, \n",
    "                             save_best_only=True)\n",
    "\n",
    "tensorboard = TensorBoard(log_dir='/tmp/autoencoder', histogram_freq=0,\n",
    "                          write_graph=True,\n",
    "                          write_images=True)\n",
    "\n",
    "history = autoencoder.fit(X_train, X_train,\n",
    "                    epochs=nb_epoch,\n",
    "                    batch_size=batch_size,\n",
    "                    shuffle=True,\n",
    "                    validation_data=(X_test, X_test),\n",
    "                    verbose=1,\n",
    "                    callbacks=[checkpointer, tensorboard]).history"
   ]
  },
  {
   "cell_type": "code",
   "execution_count": 8,
   "metadata": {},
   "outputs": [
    {
     "data": {
      "image/png": "[encoded data removed]",
      "text/plain": [
       "<Figure size 640x480 with 1 Axes>"
      ]
     },
     "metadata": {},
     "output_type": "display_data"
    }
   ],
   "source": [
    "from matplotlib import pyplot as plt \n",
    "plt.plot(history['loss'])\n",
    "plt.plot(history['val_loss'])\n",
    "plt.xlabel('Epochs')\n",
    "plt.ylabel('Loss')\n",
    "plt.legend(['loss', 'val_loss'])\n",
    "plt.show(block=False)"
   ]
  },
  {
   "cell_type": "code",
   "execution_count": 9,
   "metadata": {},
   "outputs": [
    {
     "name": "stdout",
     "output_type": "stream",
     "text": [
      "Min Loss:0.003793644020333886\n"
     ]
    }
   ],
   "source": [
    "autoencoder = load_model(filepath)\n",
    "print(f\"Min Loss:{np.min(history['loss'])}\")"
   ]
  },
  {
   "cell_type": "markdown",
   "metadata": {},
   "source": [
    "Calculate the Error and Find the Anomalies!\n",
    "Now, we feed the data again as a whole to the autoencoder and check the error term on each sample. Recall that seqs_ds is a pandas DataFrame that holds the actual string sequences. Line #2 encodes each string, and line #4 scales it. Then, I use the predict() method to get the reconstructed inputs of the strings stored in seqs_ds. Finally, I get the error term for each data point by calculating the “distance” between the input data point (or the actual data point) and the output that was reconstructed by the autoencoder:\n",
    "`mse = np.mean(np.power(actual_data - reconstructed_data, 2), axis=1)`"
   ]
  },
  {
   "cell_type": "code",
   "execution_count": 10,
   "metadata": {},
   "outputs": [
    {
     "name": "stdout",
     "output_type": "stream",
     "text": [
      "782/782 [==============================] - 2s 2ms/step\n"
     ]
    },
    {
     "data": {
      "text/html": [
       "<div>\n",
       "<style scoped>\n",
       "    .dataframe tbody tr th:only-of-type {\n",
       "        vertical-align: middle;\n",
       "    }\n",
       "\n",
       "    .dataframe tbody tr th {\n",
       "        vertical-align: top;\n",
       "    }\n",
       "\n",
       "    .dataframe thead th {\n",
       "        text-align: right;\n",
       "    }\n",
       "</style>\n",
       "<table border=\"1\" class=\"dataframe\">\n",
       "  <thead>\n",
       "    <tr style=\"text-align: right;\">\n",
       "      <th></th>\n",
       "      <th>0</th>\n",
       "      <th>MSE</th>\n",
       "    </tr>\n",
       "  </thead>\n",
       "  <tbody>\n",
       "    <tr>\n",
       "      <th>0</th>\n",
       "      <td>FEAD2MWW</td>\n",
       "      <td>0.004324</td>\n",
       "    </tr>\n",
       "    <tr>\n",
       "      <th>1</th>\n",
       "      <td>BDAA1LQM</td>\n",
       "      <td>0.005056</td>\n",
       "    </tr>\n",
       "    <tr>\n",
       "      <th>2</th>\n",
       "      <td>BFFB1WQP</td>\n",
       "      <td>0.004876</td>\n",
       "    </tr>\n",
       "    <tr>\n",
       "      <th>3</th>\n",
       "      <td>DACE2POQ</td>\n",
       "      <td>0.002331</td>\n",
       "    </tr>\n",
       "    <tr>\n",
       "      <th>4</th>\n",
       "      <td>FFEA2OWP</td>\n",
       "      <td>0.005022</td>\n",
       "    </tr>\n",
       "    <tr>\n",
       "      <th>...</th>\n",
       "      <td>...</td>\n",
       "      <td>...</td>\n",
       "    </tr>\n",
       "    <tr>\n",
       "      <th>25000</th>\n",
       "      <td>XYDC2DCA</td>\n",
       "      <td>0.248156</td>\n",
       "    </tr>\n",
       "    <tr>\n",
       "      <th>25001</th>\n",
       "      <td>TXSX1ABC</td>\n",
       "      <td>0.375250</td>\n",
       "    </tr>\n",
       "    <tr>\n",
       "      <th>25002</th>\n",
       "      <td>RNIU4XRE</td>\n",
       "      <td>0.181715</td>\n",
       "    </tr>\n",
       "    <tr>\n",
       "      <th>25003</th>\n",
       "      <td>AABDXUEI</td>\n",
       "      <td>0.012054</td>\n",
       "    </tr>\n",
       "    <tr>\n",
       "      <th>25004</th>\n",
       "      <td>SDRAC5RF</td>\n",
       "      <td>0.155238</td>\n",
       "    </tr>\n",
       "  </tbody>\n",
       "</table>\n",
       "<p>25005 rows × 2 columns</p>\n",
       "</div>"
      ],
      "text/plain": [
       "              0       MSE\n",
       "0      FEAD2MWW  0.004324\n",
       "1      BDAA1LQM  0.005056\n",
       "2      BFFB1WQP  0.004876\n",
       "3      DACE2POQ  0.002331\n",
       "4      FFEA2OWP  0.005022\n",
       "...         ...       ...\n",
       "25000  XYDC2DCA  0.248156\n",
       "25001  TXSX1ABC  0.375250\n",
       "25002  RNIU4XRE  0.181715\n",
       "25003  AABDXUEI  0.012054\n",
       "25004  SDRAC5RF  0.155238\n",
       "\n",
       "[25005 rows x 2 columns]"
      ]
     },
     "metadata": {},
     "output_type": "display_data"
    }
   ],
   "source": [
    "#encode all the data\n",
    "encoded_seqs = encode_sequence_list(seqs_ds.iloc[:,0])\n",
    "#scale it\n",
    "scaled_data = MinMaxScaler().fit_transform(encoded_seqs)\n",
    "#predict it\n",
    "predicted = autoencoder.predict(scaled_data)\n",
    "#get the error term\n",
    "mse = np.mean(np.power(scaled_data - predicted, 2), axis=1)\n",
    "#now add them to our data frame\n",
    "seqs_ds['MSE'] = mse\n",
    "display(seqs_ds)"
   ]
  },
  {
   "cell_type": "markdown",
   "metadata": {},
   "source": [
    "After we store the error term in the data frame, we can see how well each input data was constructed by our autoencoder.\n",
    "\n",
    "How do we find the anomalies?\n",
    "Well, the first thing we need to do is decide what is our threshold, and that usually depends on our data and domain knowledge. Some will say that an anomaly is a data point that has an error term that is higher than 95% of our data, for example. That would be an appropriate threshold if we expect that 5% of our data will be anomalous. However, recall that we injected 5 anomalies to a list of 25,000 perfectly formatted sequences, which means that only 0.02% of our data is anomalous, so we want to set our threshold as higher than 99.98% of our data (or the 0.9998 percentile). So first let's find this threshold:"
   ]
  },
  {
   "cell_type": "code",
   "execution_count": 11,
   "metadata": {},
   "outputs": [
    {
     "name": "stdout",
     "output_type": "stream",
     "text": [
      "MSE 0.9998 threshold:0.008634132444982732\n"
     ]
    }
   ],
   "source": [
    "mse_threshold = np.quantile(seqs_ds[\"MSE\"], 0.9998)\n",
    "print(f\"MSE 0.9998 threshold:{mse_threshold}\")"
   ]
  },
  {
   "cell_type": "markdown",
   "metadata": {},
   "source": [
    "Next, I will add an MSE_Outlier column to the data set and set it to 1 when the error term crosses this threshold."
   ]
  },
  {
   "cell_type": "code",
   "execution_count": 12,
   "metadata": {},
   "outputs": [],
   "source": [
    "seqs_ds['MSE_Outlier'] = 0\n",
    "seqs_ds.loc[seqs_ds['MSE'] > mse_threshold, 'MSE_Outlier'] = 1"
   ]
  },
  {
   "cell_type": "markdown",
   "metadata": {},
   "source": [
    "And now all we have to do is check how many outliers do we have and whether these outliers are the ones we injected and mixed in the data\n",
    "['XYDC2DCA', 'TXSX1ABC','RNIU4XRE','AABDXUEI','SDRAC5RF']. So let's see how many outliers we have and whether they are the ones we injected."
   ]
  },
  {
   "cell_type": "code",
   "execution_count": 13,
   "metadata": {},
   "outputs": [
    {
     "name": "stdout",
     "output_type": "stream",
     "text": [
      "NUm of MSE Outlier:6\n"
     ]
    },
    {
     "data": {
      "text/html": [
       "<div>\n",
       "<style scoped>\n",
       "    .dataframe tbody tr th:only-of-type {\n",
       "        vertical-align: middle;\n",
       "    }\n",
       "\n",
       "    .dataframe tbody tr th {\n",
       "        vertical-align: top;\n",
       "    }\n",
       "\n",
       "    .dataframe thead th {\n",
       "        text-align: right;\n",
       "    }\n",
       "</style>\n",
       "<table border=\"1\" class=\"dataframe\">\n",
       "  <thead>\n",
       "    <tr style=\"text-align: right;\">\n",
       "      <th></th>\n",
       "      <th>0</th>\n",
       "      <th>MSE</th>\n",
       "      <th>MSE_Outlier</th>\n",
       "    </tr>\n",
       "  </thead>\n",
       "  <tbody>\n",
       "    <tr>\n",
       "      <th>25000</th>\n",
       "      <td>XYDC2DCA</td>\n",
       "      <td>0.248156</td>\n",
       "      <td>1</td>\n",
       "    </tr>\n",
       "    <tr>\n",
       "      <th>25001</th>\n",
       "      <td>TXSX1ABC</td>\n",
       "      <td>0.375250</td>\n",
       "      <td>1</td>\n",
       "    </tr>\n",
       "    <tr>\n",
       "      <th>25002</th>\n",
       "      <td>RNIU4XRE</td>\n",
       "      <td>0.181715</td>\n",
       "      <td>1</td>\n",
       "    </tr>\n",
       "    <tr>\n",
       "      <th>25003</th>\n",
       "      <td>AABDXUEI</td>\n",
       "      <td>0.012054</td>\n",
       "      <td>1</td>\n",
       "    </tr>\n",
       "    <tr>\n",
       "      <th>25004</th>\n",
       "      <td>SDRAC5RF</td>\n",
       "      <td>0.155238</td>\n",
       "      <td>1</td>\n",
       "    </tr>\n",
       "  </tbody>\n",
       "</table>\n",
       "</div>"
      ],
      "text/plain": [
       "              0       MSE  MSE_Outlier\n",
       "25000  XYDC2DCA  0.248156            1\n",
       "25001  TXSX1ABC  0.375250            1\n",
       "25002  RNIU4XRE  0.181715            1\n",
       "25003  AABDXUEI  0.012054            1\n",
       "25004  SDRAC5RF  0.155238            1"
      ]
     },
     "execution_count": 13,
     "metadata": {},
     "output_type": "execute_result"
    }
   ],
   "source": [
    "print(f\"NUm of MSE Outlier:{seqs_ds['MSE_Outlier'].sum()}\")\n",
    "seqs_ds.iloc[25000:]"
   ]
  }
 ],
 "metadata": {
  "kernelspec": {
   "display_name": "Python 3.9.13 ('tf')",
   "language": "python",
   "name": "python3"
  },
  "language_info": {
   "codemirror_mode": {
    "name": "ipython",
    "version": 3
   },
   "file_extension": ".py",
   "mimetype": "text/x-python",
   "name": "python",
   "nbconvert_exporter": "python",
   "pygments_lexer": "ipython3",
   "version": "3.9.13"
  },
  "orig_nbformat": 4,
  "vscode": {
   "interpreter": {
    "hash": "e52cedb27f93f01cfe5ea1850732be32622068775c6272b3b059d3fe063ef1d0"
   }
  }
 },
 "nbformat": 4,
 "nbformat_minor": 2
}
