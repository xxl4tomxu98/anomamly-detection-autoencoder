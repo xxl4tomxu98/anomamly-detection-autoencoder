{
 "cells": [
  {
   "cell_type": "markdown",
   "metadata": {},
   "source": [
    "## LSTM Autoencoders\n",
    "Autoencoders Neural Networks try to learn data representation of its input. So the input of the Autoencoder is the same as the output? Not quite. Usually, we want to learn an efficient encoding that uses fewer parameters/memory.\n",
    "\n",
    "The encoding should allow for output similar to the original input. In a sense, we’re forcing the model to learn the most important features of the data using as few parameters as possible.\n",
    "\n",
    "## Anomaly Detection with Autoencoders\n",
    "Here are the basic steps to Anomaly Detection using an Autoencoder:\n",
    "\n",
    "### Train an Autoencoder on normal data (no anomalies)\n",
    "### Take a new data point and try to reconstruct it using the Autoencoder\n",
    "### If the error (reconstruction error) for the new data point is above some threshold, we label the example as an anomaly\n",
    "Good, but is this useful for Time Series Data? Yes, we need to take into account the temporal properties of the data. Luckily, LSTMs can help us with that.\n",
    "\n",
    "S&P 500 Index Data\n",
    "Our data is the daily closing prices for the S&P 500 index from 1986 to 2018.\n",
    "\n",
    "The S&P 500, or just the S&P, is a stock market index that measures the stock performance of 500 large companies listed on stock exchanges in the United States. It is one of the most commonly followed equity indices, and many consider it to be one of the best representations of the U.S. stock market. -Wikipedia\n",
    "\n",
    "It is provided by Patrick David and hosted on Kaggle. The data contains only two columns/features - the date and the closing price. Let’s download and load into a Data Frame:"
   ]
  },
  {
   "cell_type": "code",
   "execution_count": 10,
   "metadata": {},
   "outputs": [],
   "source": [
    "import pandas as pd\n",
    "import numpy as np\n",
    "df = pd.read_csv('spx.csv', parse_dates=['date'], index_col='date')"
   ]
  },
  {
   "cell_type": "code",
   "execution_count": 11,
   "metadata": {},
   "outputs": [
    {
     "name": "stdout",
     "output_type": "stream",
     "text": [
      "(7782, 1) (410, 1)\n"
     ]
    }
   ],
   "source": [
    "# This training set takes 95% of earlier data and the test data is the last 5%\n",
    "train_size = int(len(df) * 0.95)\n",
    "test_size = len(df) - train_size\n",
    "train, test = df.iloc[0:train_size], df.iloc[train_size:len(df)]\n",
    "print(train.shape, test.shape)"
   ]
  },
  {
   "cell_type": "code",
   "execution_count": 12,
   "metadata": {},
   "outputs": [
    {
     "name": "stderr",
     "output_type": "stream",
     "text": [
      "/tmp/ipykernel_1430/1273204720.py:4: SettingWithCopyWarning: \n",
      "A value is trying to be set on a copy of a slice from a DataFrame.\n",
      "Try using .loc[row_indexer,col_indexer] = value instead\n",
      "\n",
      "See the caveats in the documentation: https://pandas.pydata.org/pandas-docs/stable/user_guide/indexing.html#returning-a-view-versus-a-copy\n",
      "  train[['close']] = scaler.transform(train[['close']])\n",
      "/tmp/ipykernel_1430/1273204720.py:5: SettingWithCopyWarning: \n",
      "A value is trying to be set on a copy of a slice from a DataFrame.\n",
      "Try using .loc[row_indexer,col_indexer] = value instead\n",
      "\n",
      "See the caveats in the documentation: https://pandas.pydata.org/pandas-docs/stable/user_guide/indexing.html#returning-a-view-versus-a-copy\n",
      "  test[['close']] = scaler.transform(test[['close']])\n"
     ]
    }
   ],
   "source": [
    "from sklearn.preprocessing import StandardScaler\n",
    "scaler = StandardScaler()\n",
    "scaler = scaler.fit(train[['close']])\n",
    "train[['close']] = scaler.transform(train[['close']])\n",
    "test[['close']] = scaler.transform(test[['close']])"
   ]
  },
  {
   "cell_type": "code",
   "execution_count": 13,
   "metadata": {},
   "outputs": [],
   "source": [
    "def create_dataset(X, y, time_steps=1):\n",
    "    Xs, ys = [], []\n",
    "    for i in range(len(X) - time_steps):\n",
    "        v = X.iloc[i:(i + time_steps)].values\n",
    "        Xs.append(v)\n",
    "        ys.append(y.iloc[i + time_steps])\n",
    "    return np.array(Xs), np.array(ys)"
   ]
  },
  {
   "cell_type": "code",
   "execution_count": 14,
   "metadata": {},
   "outputs": [
    {
     "name": "stdout",
     "output_type": "stream",
     "text": [
      "(7752, 30, 1)\n"
     ]
    }
   ],
   "source": [
    "TIME_STEPS = 30\n",
    "# reshape to [samples, time_steps, n_features]\n",
    "X_train, y_train = create_dataset(\n",
    "  train[['close']],\n",
    "  train.close,\n",
    "  TIME_STEPS\n",
    ")\n",
    "\n",
    "X_test, y_test = create_dataset(\n",
    "  test[['close']],\n",
    "  test.close,\n",
    "  TIME_STEPS\n",
    ")\n",
    "\n",
    "print(X_train.shape)"
   ]
  },
  {
   "cell_type": "markdown",
   "metadata": {},
   "source": [
    "LSTM Autoencoder in Keras\n",
    "Our Autoencoder should take a sequence as input and outputs a sequence of the same shape. Here’s how to build such a simple model in Keras:"
   ]
  },
  {
   "cell_type": "code",
   "execution_count": 15,
   "metadata": {},
   "outputs": [
    {
     "name": "stderr",
     "output_type": "stream",
     "text": [
      "2022-10-18 12:44:18.720448: I tensorflow/core/platform/cpu_feature_guard.cc:193] This TensorFlow binary is optimized with oneAPI Deep Neural Network Library (oneDNN) to use the following CPU instructions in performance-critical operations:  AVX2 FMA\n",
      "To enable them in other operations, rebuild TensorFlow with the appropriate compiler flags.\n",
      "2022-10-18 12:44:18.875777: E tensorflow/stream_executor/cuda/cuda_blas.cc:2981] Unable to register cuBLAS factory: Attempting to register factory for plugin cuBLAS when one has already been registered\n",
      "2022-10-18 12:44:19.366378: W tensorflow/stream_executor/platform/default/dso_loader.cc:64] Could not load dynamic library 'libnvinfer.so.7'; dlerror: libnvinfer.so.7: cannot open shared object file: No such file or directory; LD_LIBRARY_PATH: :/home/tomxu/miniconda3/envs/tf/lib/\n",
      "2022-10-18 12:44:19.366453: W tensorflow/stream_executor/platform/default/dso_loader.cc:64] Could not load dynamic library 'libnvinfer_plugin.so.7'; dlerror: libnvinfer_plugin.so.7: cannot open shared object file: No such file or directory; LD_LIBRARY_PATH: :/home/tomxu/miniconda3/envs/tf/lib/\n",
      "2022-10-18 12:44:19.366460: W tensorflow/compiler/tf2tensorrt/utils/py_utils.cc:38] TF-TRT Warning: Cannot dlopen some TensorRT libraries. If you would like to use Nvidia GPU with TensorRT, please make sure the missing libraries mentioned above are installed properly.\n",
      "2022-10-18 12:44:21.145247: I tensorflow/stream_executor/cuda/cuda_gpu_executor.cc:966] could not open file to read NUMA node: /sys/bus/pci/devices/0000:01:00.0/numa_node\n",
      "Your kernel may have been built without NUMA support.\n",
      "2022-10-18 12:44:21.151596: I tensorflow/stream_executor/cuda/cuda_gpu_executor.cc:966] could not open file to read NUMA node: /sys/bus/pci/devices/0000:01:00.0/numa_node\n",
      "Your kernel may have been built without NUMA support.\n",
      "2022-10-18 12:44:21.152248: I tensorflow/stream_executor/cuda/cuda_gpu_executor.cc:966] could not open file to read NUMA node: /sys/bus/pci/devices/0000:01:00.0/numa_node\n",
      "Your kernel may have been built without NUMA support.\n",
      "2022-10-18 12:44:21.152614: I tensorflow/core/platform/cpu_feature_guard.cc:193] This TensorFlow binary is optimized with oneAPI Deep Neural Network Library (oneDNN) to use the following CPU instructions in performance-critical operations:  AVX2 FMA\n",
      "To enable them in other operations, rebuild TensorFlow with the appropriate compiler flags.\n",
      "2022-10-18 12:44:21.153700: I tensorflow/stream_executor/cuda/cuda_gpu_executor.cc:966] could not open file to read NUMA node: /sys/bus/pci/devices/0000:01:00.0/numa_node\n",
      "Your kernel may have been built without NUMA support.\n",
      "2022-10-18 12:44:21.154362: I tensorflow/stream_executor/cuda/cuda_gpu_executor.cc:966] could not open file to read NUMA node: /sys/bus/pci/devices/0000:01:00.0/numa_node\n",
      "Your kernel may have been built without NUMA support.\n",
      "2022-10-18 12:44:21.155041: I tensorflow/stream_executor/cuda/cuda_gpu_executor.cc:966] could not open file to read NUMA node: /sys/bus/pci/devices/0000:01:00.0/numa_node\n",
      "Your kernel may have been built without NUMA support.\n",
      "2022-10-18 12:44:21.789154: I tensorflow/stream_executor/cuda/cuda_gpu_executor.cc:966] could not open file to read NUMA node: /sys/bus/pci/devices/0000:01:00.0/numa_node\n",
      "Your kernel may have been built without NUMA support.\n",
      "2022-10-18 12:44:21.789751: I tensorflow/stream_executor/cuda/cuda_gpu_executor.cc:966] could not open file to read NUMA node: /sys/bus/pci/devices/0000:01:00.0/numa_node\n",
      "Your kernel may have been built without NUMA support.\n",
      "2022-10-18 12:44:21.789762: I tensorflow/core/common_runtime/gpu/gpu_device.cc:1700] Could not identify NUMA node of platform GPU id 0, defaulting to 0.  Your kernel may not have been built with NUMA support.\n",
      "2022-10-18 12:44:21.790330: I tensorflow/stream_executor/cuda/cuda_gpu_executor.cc:966] could not open file to read NUMA node: /sys/bus/pci/devices/0000:01:00.0/numa_node\n",
      "Your kernel may have been built without NUMA support.\n",
      "2022-10-18 12:44:21.790367: I tensorflow/core/common_runtime/gpu/gpu_device.cc:1616] Created device /job:localhost/replica:0/task:0/device:GPU:0 with 3908 MB memory:  -> device: 0, name: Quadro RTX 3000, pci bus id: 0000:01:00.0, compute capability: 7.5\n"
     ]
    }
   ],
   "source": [
    "from tensorflow import keras\n",
    "model = keras.Sequential()\n",
    "model.add(keras.layers.LSTM(\n",
    "    units=64,\n",
    "    input_shape=(X_train.shape[1], X_train.shape[2])\n",
    "))\n",
    "model.add(keras.layers.Dropout(rate=0.2))\n",
    "model.add(keras.layers.RepeatVector(n=X_train.shape[1]))\n",
    "model.add(keras.layers.LSTM(units=64, return_sequences=True))\n",
    "model.add(keras.layers.Dropout(rate=0.2))\n",
    "model.add(\n",
    "  keras.layers.TimeDistributed(\n",
    "    keras.layers.Dense(units=X_train.shape[2])\n",
    "  )\n",
    ")\n",
    "model.compile(loss='mae', optimizer='adam')"
   ]
  },
  {
   "cell_type": "markdown",
   "metadata": {},
   "source": [
    "There are a couple of things that might be new to you in this model. The RepeatVector layer simply repeats the input n times. Adding return_sequences=True in LSTM layer makes it return the sequence.\n",
    "\n",
    "Finally, the TimeDistributed layer creates a vector with a length of the number of outputs from the previous layer. Your first LSTM Autoencoder is ready for training.\n",
    "\n",
    "Training the model is no different from a regular LSTM model:"
   ]
  },
  {
   "cell_type": "code",
   "execution_count": 16,
   "metadata": {},
   "outputs": [
    {
     "name": "stdout",
     "output_type": "stream",
     "text": [
      "Epoch 1/10\n"
     ]
    },
    {
     "name": "stderr",
     "output_type": "stream",
     "text": [
      "2022-10-18 12:44:24.669440: I tensorflow/stream_executor/cuda/cuda_dnn.cc:384] Loaded cuDNN version 8100\n"
     ]
    },
    {
     "name": "stdout",
     "output_type": "stream",
     "text": [
      "218/218 [==============================] - 6s 12ms/step - loss: 0.1787 - val_loss: 0.2643\n",
      "Epoch 2/10\n",
      "218/218 [==============================] - 2s 9ms/step - loss: 0.1012 - val_loss: 0.2359\n",
      "Epoch 3/10\n",
      "218/218 [==============================] - 2s 9ms/step - loss: 0.1102 - val_loss: 0.1762\n",
      "Epoch 4/10\n",
      "218/218 [==============================] - 2s 9ms/step - loss: 0.1324 - val_loss: 0.1746\n",
      "Epoch 5/10\n",
      "218/218 [==============================] - 2s 9ms/step - loss: 0.1392 - val_loss: 0.2404\n",
      "Epoch 6/10\n",
      "218/218 [==============================] - 2s 9ms/step - loss: 0.1198 - val_loss: 0.2923\n",
      "Epoch 7/10\n",
      "218/218 [==============================] - 2s 9ms/step - loss: 0.1270 - val_loss: 0.1732\n",
      "Epoch 8/10\n",
      "218/218 [==============================] - 2s 9ms/step - loss: 0.1154 - val_loss: 0.1748\n",
      "Epoch 9/10\n",
      "218/218 [==============================] - 2s 9ms/step - loss: 0.1227 - val_loss: 0.1555\n",
      "Epoch 10/10\n",
      "218/218 [==============================] - 2s 9ms/step - loss: 0.1265 - val_loss: 0.1567\n"
     ]
    }
   ],
   "source": [
    "history = model.fit(\n",
    "    X_train, y_train,\n",
    "    epochs=10,\n",
    "    batch_size=32,\n",
    "    validation_split=0.1,\n",
    "    shuffle=False\n",
    ")"
   ]
  },
  {
   "cell_type": "code",
   "execution_count": 17,
   "metadata": {},
   "outputs": [
    {
     "data": {
      "image/png": "[encoded data removed]",
      "text/plain": [
       "<Figure size 640x480 with 1 Axes>"
      ]
     },
     "metadata": {},
     "output_type": "display_data"
    }
   ],
   "source": [
    "from matplotlib import pyplot as plt \n",
    "plt.plot(history.history['loss'])\n",
    "plt.plot(history.history['val_loss'])\n",
    "plt.xlabel('Epochs')\n",
    "plt.ylabel('MSLE Loss')\n",
    "plt.legend(['loss', 'val_loss'])\n",
    "plt.show()"
   ]
  },
  {
   "cell_type": "code",
   "execution_count": 18,
   "metadata": {},
   "outputs": [
    {
     "name": "stdout",
     "output_type": "stream",
     "text": [
      "243/243 [==============================] - 2s 4ms/step\n"
     ]
    }
   ],
   "source": [
    "X_train_pred = model.predict(X_train)\n",
    "\n",
    "train_mae_loss = np.mean(np.abs(X_train_pred - X_train), axis=1)"
   ]
  },
  {
   "cell_type": "code",
   "execution_count": 19,
   "metadata": {},
   "outputs": [
    {
     "data": {
      "image/png": "[encoded data removed]",
      "text/plain": [
       "<Figure size 640x480 with 1 Axes>"
      ]
     },
     "metadata": {},
     "output_type": "display_data"
    }
   ],
   "source": [
    "plt.hist(train_mae_loss, bins=50)\n",
    "plt.xlabel(\"Train MAE loss\")\n",
    "plt.ylabel(\"No of samples\")\n",
    "plt.show()"
   ]
  },
  {
   "cell_type": "code",
   "execution_count": 43,
   "metadata": {},
   "outputs": [
    {
     "name": "stdout",
     "output_type": "stream",
     "text": [
      "12/12 [==============================] - 0s 9ms/step\n"
     ]
    },
    {
     "data": {
      "text/html": [
       "<div>\n",
       "<style scoped>\n",
       "    .dataframe tbody tr th:only-of-type {\n",
       "        vertical-align: middle;\n",
       "    }\n",
       "\n",
       "    .dataframe tbody tr th {\n",
       "        vertical-align: top;\n",
       "    }\n",
       "\n",
       "    .dataframe thead th {\n",
       "        text-align: right;\n",
       "    }\n",
       "</style>\n",
       "<table border=\"1\" class=\"dataframe\">\n",
       "  <thead>\n",
       "    <tr style=\"text-align: right;\">\n",
       "      <th></th>\n",
       "      <th>loss</th>\n",
       "      <th>threshold</th>\n",
       "      <th>anomaly</th>\n",
       "      <th>close</th>\n",
       "    </tr>\n",
       "    <tr>\n",
       "      <th>date</th>\n",
       "      <th></th>\n",
       "      <th></th>\n",
       "      <th></th>\n",
       "      <th></th>\n",
       "    </tr>\n",
       "  </thead>\n",
       "  <tbody>\n",
       "    <tr>\n",
       "      <th>2016-12-27</th>\n",
       "      <td>0.257040</td>\n",
       "      <td>0.75</td>\n",
       "      <td>False</td>\n",
       "      <td>2.392816</td>\n",
       "    </tr>\n",
       "    <tr>\n",
       "      <th>2016-12-28</th>\n",
       "      <td>0.259780</td>\n",
       "      <td>0.75</td>\n",
       "      <td>False</td>\n",
       "      <td>2.357204</td>\n",
       "    </tr>\n",
       "    <tr>\n",
       "      <th>2016-12-29</th>\n",
       "      <td>0.270560</td>\n",
       "      <td>0.75</td>\n",
       "      <td>False</td>\n",
       "      <td>2.355964</td>\n",
       "    </tr>\n",
       "    <tr>\n",
       "      <th>2016-12-30</th>\n",
       "      <td>0.277864</td>\n",
       "      <td>0.75</td>\n",
       "      <td>False</td>\n",
       "      <td>2.336373</td>\n",
       "    </tr>\n",
       "    <tr>\n",
       "      <th>2017-01-03</th>\n",
       "      <td>0.288549</td>\n",
       "      <td>0.75</td>\n",
       "      <td>False</td>\n",
       "      <td>2.372061</td>\n",
       "    </tr>\n",
       "    <tr>\n",
       "      <th>...</th>\n",
       "      <td>...</td>\n",
       "      <td>...</td>\n",
       "      <td>...</td>\n",
       "      <td>...</td>\n",
       "    </tr>\n",
       "    <tr>\n",
       "      <th>2018-06-25</th>\n",
       "      <td>0.804970</td>\n",
       "      <td>0.75</td>\n",
       "      <td>True</td>\n",
       "      <td>3.234646</td>\n",
       "    </tr>\n",
       "    <tr>\n",
       "      <th>2018-06-26</th>\n",
       "      <td>0.814996</td>\n",
       "      <td>0.75</td>\n",
       "      <td>True</td>\n",
       "      <td>3.245897</td>\n",
       "    </tr>\n",
       "    <tr>\n",
       "      <th>2018-06-27</th>\n",
       "      <td>0.818689</td>\n",
       "      <td>0.75</td>\n",
       "      <td>True</td>\n",
       "      <td>3.201889</td>\n",
       "    </tr>\n",
       "    <tr>\n",
       "      <th>2018-06-28</th>\n",
       "      <td>0.825888</td>\n",
       "      <td>0.75</td>\n",
       "      <td>True</td>\n",
       "      <td>3.233219</td>\n",
       "    </tr>\n",
       "    <tr>\n",
       "      <th>2018-06-29</th>\n",
       "      <td>0.828525</td>\n",
       "      <td>0.75</td>\n",
       "      <td>True</td>\n",
       "      <td>3.237088</td>\n",
       "    </tr>\n",
       "  </tbody>\n",
       "</table>\n",
       "<p>380 rows × 4 columns</p>\n",
       "</div>"
      ],
      "text/plain": [
       "                loss  threshold  anomaly     close\n",
       "date                                              \n",
       "2016-12-27  0.257040       0.75    False  2.392816\n",
       "2016-12-28  0.259780       0.75    False  2.357204\n",
       "2016-12-29  0.270560       0.75    False  2.355964\n",
       "2016-12-30  0.277864       0.75    False  2.336373\n",
       "2017-01-03  0.288549       0.75    False  2.372061\n",
       "...              ...        ...      ...       ...\n",
       "2018-06-25  0.804970       0.75     True  3.234646\n",
       "2018-06-26  0.814996       0.75     True  3.245897\n",
       "2018-06-27  0.818689       0.75     True  3.201889\n",
       "2018-06-28  0.825888       0.75     True  3.233219\n",
       "2018-06-29  0.828525       0.75     True  3.237088\n",
       "\n",
       "[380 rows x 4 columns]"
      ]
     },
     "execution_count": 43,
     "metadata": {},
     "output_type": "execute_result"
    }
   ],
   "source": [
    "# We’ll pick a threshold of 0.65, as not much of the loss is larger than that. When the error is larger than that, we’ll declare that example an anomaly:\n",
    "THRESHOLD = 0.75\n",
    "# calc MAE on test data\n",
    "X_test_pred = model.predict(X_test)\n",
    "test_mae_loss = np.mean(np.abs(X_test_pred - X_test), axis=1)\n",
    "# We’ll build a DataFrame containing the loss and the anomalies (values above the threshold):\n",
    "test_score_df = pd.DataFrame(index=test[TIME_STEPS:].index)\n",
    "test_score_df['loss'] = test_mae_loss\n",
    "test_score_df['threshold'] = THRESHOLD\n",
    "test_score_df['anomaly'] = test_score_df.loss > test_score_df.threshold\n",
    "test_score_df['close'] = test[TIME_STEPS:].close\n",
    "test_score_df"
   ]
  },
  {
   "cell_type": "code",
   "execution_count": 44,
   "metadata": {},
   "outputs": [
    {
     "data": {
      "text/html": [
       "<div>\n",
       "<style scoped>\n",
       "    .dataframe tbody tr th:only-of-type {\n",
       "        vertical-align: middle;\n",
       "    }\n",
       "\n",
       "    .dataframe tbody tr th {\n",
       "        vertical-align: top;\n",
       "    }\n",
       "\n",
       "    .dataframe thead th {\n",
       "        text-align: right;\n",
       "    }\n",
       "</style>\n",
       "<table border=\"1\" class=\"dataframe\">\n",
       "  <thead>\n",
       "    <tr style=\"text-align: right;\">\n",
       "      <th></th>\n",
       "      <th>date</th>\n",
       "      <th>loss</th>\n",
       "      <th>threshold</th>\n",
       "      <th>anomaly</th>\n",
       "      <th>close</th>\n",
       "    </tr>\n",
       "  </thead>\n",
       "  <tbody>\n",
       "    <tr>\n",
       "      <th>0</th>\n",
       "      <td>2018-01-26</td>\n",
       "      <td>0.751813</td>\n",
       "      <td>0.75</td>\n",
       "      <td>True</td>\n",
       "      <td>3.527284</td>\n",
       "    </tr>\n",
       "    <tr>\n",
       "      <th>1</th>\n",
       "      <td>2018-01-29</td>\n",
       "      <td>0.759372</td>\n",
       "      <td>0.75</td>\n",
       "      <td>True</td>\n",
       "      <td>3.490958</td>\n",
       "    </tr>\n",
       "    <tr>\n",
       "      <th>2</th>\n",
       "      <td>2018-01-30</td>\n",
       "      <td>0.766091</td>\n",
       "      <td>0.75</td>\n",
       "      <td>True</td>\n",
       "      <td>3.432543</td>\n",
       "    </tr>\n",
       "    <tr>\n",
       "      <th>3</th>\n",
       "      <td>2018-01-31</td>\n",
       "      <td>0.779891</td>\n",
       "      <td>0.75</td>\n",
       "      <td>True</td>\n",
       "      <td>3.435135</td>\n",
       "    </tr>\n",
       "    <tr>\n",
       "      <th>4</th>\n",
       "      <td>2018-02-01</td>\n",
       "      <td>0.794553</td>\n",
       "      <td>0.75</td>\n",
       "      <td>True</td>\n",
       "      <td>3.431698</td>\n",
       "    </tr>\n",
       "    <tr>\n",
       "      <th>...</th>\n",
       "      <td>...</td>\n",
       "      <td>...</td>\n",
       "      <td>...</td>\n",
       "      <td>...</td>\n",
       "      <td>...</td>\n",
       "    </tr>\n",
       "    <tr>\n",
       "      <th>60</th>\n",
       "      <td>2018-06-25</td>\n",
       "      <td>0.804970</td>\n",
       "      <td>0.75</td>\n",
       "      <td>True</td>\n",
       "      <td>3.234646</td>\n",
       "    </tr>\n",
       "    <tr>\n",
       "      <th>61</th>\n",
       "      <td>2018-06-26</td>\n",
       "      <td>0.814996</td>\n",
       "      <td>0.75</td>\n",
       "      <td>True</td>\n",
       "      <td>3.245897</td>\n",
       "    </tr>\n",
       "    <tr>\n",
       "      <th>62</th>\n",
       "      <td>2018-06-27</td>\n",
       "      <td>0.818689</td>\n",
       "      <td>0.75</td>\n",
       "      <td>True</td>\n",
       "      <td>3.201889</td>\n",
       "    </tr>\n",
       "    <tr>\n",
       "      <th>63</th>\n",
       "      <td>2018-06-28</td>\n",
       "      <td>0.825888</td>\n",
       "      <td>0.75</td>\n",
       "      <td>True</td>\n",
       "      <td>3.233219</td>\n",
       "    </tr>\n",
       "    <tr>\n",
       "      <th>64</th>\n",
       "      <td>2018-06-29</td>\n",
       "      <td>0.828525</td>\n",
       "      <td>0.75</td>\n",
       "      <td>True</td>\n",
       "      <td>3.237088</td>\n",
       "    </tr>\n",
       "  </tbody>\n",
       "</table>\n",
       "<p>65 rows × 5 columns</p>\n",
       "</div>"
      ],
      "text/plain": [
       "         date      loss  threshold  anomaly     close\n",
       "0  2018-01-26  0.751813       0.75     True  3.527284\n",
       "1  2018-01-29  0.759372       0.75     True  3.490958\n",
       "2  2018-01-30  0.766091       0.75     True  3.432543\n",
       "3  2018-01-31  0.779891       0.75     True  3.435135\n",
       "4  2018-02-01  0.794553       0.75     True  3.431698\n",
       "..        ...       ...        ...      ...       ...\n",
       "60 2018-06-25  0.804970       0.75     True  3.234646\n",
       "61 2018-06-26  0.814996       0.75     True  3.245897\n",
       "62 2018-06-27  0.818689       0.75     True  3.201889\n",
       "63 2018-06-28  0.825888       0.75     True  3.233219\n",
       "64 2018-06-29  0.828525       0.75     True  3.237088\n",
       "\n",
       "[65 rows x 5 columns]"
      ]
     },
     "execution_count": 44,
     "metadata": {},
     "output_type": "execute_result"
    }
   ],
   "source": [
    "anomalies = test_score_df[test_score_df.anomaly == True]\n",
    "anomalies.reset_index('date', inplace=True)\n",
    "anomalies"
   ]
  },
  {
   "cell_type": "code",
   "execution_count": 45,
   "metadata": {},
   "outputs": [
    {
     "data": {
      "image/png": "[encoded data removed]",
      "text/plain": [
       "<Figure size 640x480 with 1 Axes>"
      ]
     },
     "metadata": {},
     "output_type": "display_data"
    }
   ],
   "source": [
    "fig, ax = plt.subplots()\n",
    "test_score_df['close'].plot(legend=False, ax=ax)\n",
    "anomalies.plot.scatter(x='date', y='close', legend=False, ax=ax, color=\"r\")\n",
    "plt.show()"
   ]
  },
  {
   "cell_type": "markdown",
   "metadata": {},
   "source": [
    "You should have a thorough look at the chart. The red dots (anomalies) are covering most of the points with abrupt changes to the closing price. You can play around with the threshold and try to get even better results. You just combined two powerful concepts in Deep Learning - LSTMs and Autoencoders. The result is a model that can find anomalies in S&P 500 closing price data. You can try to tune the model and/or the threshold to get even better results."
   ]
  }
 ],
 "metadata": {
  "kernelspec": {
   "display_name": "Python 3.9.13 ('tf')",
   "language": "python",
   "name": "python3"
  },
  "language_info": {
   "codemirror_mode": {
    "name": "ipython",
    "version": 3
   },
   "file_extension": ".py",
   "mimetype": "text/x-python",
   "name": "python",
   "nbconvert_exporter": "python",
   "pygments_lexer": "ipython3",
   "version": "3.9.13"
  },
  "orig_nbformat": 4,
  "vscode": {
   "interpreter": {
    "hash": "e52cedb27f93f01cfe5ea1850732be32622068775c6272b3b059d3fe063ef1d0"
   }
  }
 },
 "nbformat": 4,
 "nbformat_minor": 2
}
